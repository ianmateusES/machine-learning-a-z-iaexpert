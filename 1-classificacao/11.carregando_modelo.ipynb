{
 "cells": [
  {
   "cell_type": "code",
   "execution_count": null,
   "id": "grand-thread",
   "metadata": {},
   "outputs": [],
   "source": [
    "import numpy as np\n",
    "import pandas as pd\n",
    "import pickle"
   ]
  },
  {
   "cell_type": "markdown",
   "id": "standard-schedule",
   "metadata": {
    "id": "IE2LDIuAdVf2"
   },
   "source": [
    "# Carregar um classificador já treinado"
   ]
  },
  {
   "cell_type": "code",
   "execution_count": null,
   "id": "embedded-trick",
   "metadata": {
    "id": "jFS52QjkkLEP"
   },
   "outputs": [],
   "source": [
    "classificador_rede_neural = pickle.load(open('rede_neural_finalizado.sav', 'rb'))\n",
    "classificador_decisionTree = pickle.load(open('decisionTree_finalizado.sav', 'rb'))\n",
    "classificador_randomForest = pickle.load(open('randomForest_finalizado.sav', 'rb'))"
   ]
  },
  {
   "cell_type": "code",
   "execution_count": null,
   "id": "basic-connectivity",
   "metadata": {
    "colab": {
     "base_uri": "https://localhost:8080/"
    },
    "id": "ZhRtIsh_kn4B",
    "outputId": "ddff7a7f-5f3f-4841-817f-dfa9e92d75d7"
   },
   "outputs": [
    {
     "data": {
      "text/plain": [
       "array([-1.03572293, -0.93978122,  0.04244312])"
      ]
     },
     "execution_count": 92,
     "metadata": {
      "tags": []
     },
     "output_type": "execute_result"
    }
   ],
   "source": [
    "novo_registro = X_credit[1999]\n",
    "novo_registro"
   ]
  },
  {
   "cell_type": "code",
   "execution_count": null,
   "id": "timely-chain",
   "metadata": {
    "colab": {
     "base_uri": "https://localhost:8080/"
    },
    "id": "y02JAV9WkyEx",
    "outputId": "5d5146f8-5629-4e26-8c4d-2118cd973e86"
   },
   "outputs": [
    {
     "data": {
      "text/plain": [
       "(3,)"
      ]
     },
     "execution_count": 93,
     "metadata": {
      "tags": []
     },
     "output_type": "execute_result"
    }
   ],
   "source": [
    "novo_registro.shape"
   ]
  },
  {
   "cell_type": "code",
   "execution_count": null,
   "id": "centered-monaco",
   "metadata": {
    "colab": {
     "base_uri": "https://localhost:8080/"
    },
    "id": "NdJ7vai0k-Nl",
    "outputId": "c7b8a12a-cffd-453a-efd1-5d1ed60df0c7"
   },
   "outputs": [
    {
     "data": {
      "text/plain": [
       "(1, 3)"
      ]
     },
     "execution_count": 94,
     "metadata": {
      "tags": []
     },
     "output_type": "execute_result"
    }
   ],
   "source": [
    "novo_registro = novo_registro.reshape(1, -1)\n",
    "novo_registro.shape"
   ]
  },
  {
   "cell_type": "code",
   "execution_count": null,
   "id": "external-longer",
   "metadata": {
    "colab": {
     "base_uri": "https://localhost:8080/"
    },
    "id": "DUw8747mlG5L",
    "outputId": "cc580368-8a94-4184-a0ff-edc942accdab"
   },
   "outputs": [
    {
     "data": {
      "text/plain": [
       "array([[-1.03572293, -0.93978122,  0.04244312]])"
      ]
     },
     "execution_count": 95,
     "metadata": {
      "tags": []
     },
     "output_type": "execute_result"
    }
   ],
   "source": [
    "novo_registro"
   ]
  },
  {
   "cell_type": "code",
   "execution_count": null,
   "id": "rocky-england",
   "metadata": {
    "colab": {
     "base_uri": "https://localhost:8080/"
    },
    "id": "VkIrzIRxk2GG",
    "outputId": "b3ab307b-cd19-45a5-e716-8f56807692a6"
   },
   "outputs": [
    {
     "data": {
      "text/plain": [
       "array([1])"
      ]
     },
     "execution_count": 96,
     "metadata": {
      "tags": []
     },
     "output_type": "execute_result"
    }
   ],
   "source": [
    "classificador_rede_neural.predict(novo_registro)"
   ]
  },
  {
   "cell_type": "code",
   "execution_count": null,
   "id": "equivalent-routine",
   "metadata": {
    "colab": {
     "base_uri": "https://localhost:8080/"
    },
    "id": "S-anyC6dlMWH",
    "outputId": "aff853c2-2dfb-4a7e-9572-6ed87e506702"
   },
   "outputs": [
    {
     "data": {
      "text/plain": [
       "array([1])"
      ]
     },
     "execution_count": 97,
     "metadata": {
      "tags": []
     },
     "output_type": "execute_result"
    }
   ],
   "source": [
    "classificador_decisionTree.predict(novo_registro)"
   ]
  },
  {
   "cell_type": "code",
   "execution_count": null,
   "id": "scenic-screening",
   "metadata": {
    "colab": {
     "base_uri": "https://localhost:8080/"
    },
    "id": "_h1sPgiIlQ5a",
    "outputId": "efa8bb0f-90a4-4342-84cf-5a5ff5ce9951"
   },
   "outputs": [
    {
     "data": {
      "text/plain": [
       "array([1])"
      ]
     },
     "execution_count": 98,
     "metadata": {
      "tags": []
     },
     "output_type": "execute_result"
    }
   ],
   "source": [
    "classificador_randomForest.predict(novo_registro)"
   ]
  },
  {
   "cell_type": "markdown",
   "id": "fitted-gothic",
   "metadata": {
    "id": "D8SRPAsJmEs3"
   },
   "source": [
    "# Combinação de classificadores"
   ]
  },
  {
   "cell_type": "code",
   "execution_count": null,
   "id": "hollow-envelope",
   "metadata": {
    "colab": {
     "base_uri": "https://localhost:8080/"
    },
    "id": "FQL_bn8NmK2P",
    "outputId": "e9392a9e-95c7-46e1-a23e-4c14a28e87da"
   },
   "outputs": [
    {
     "data": {
      "text/plain": [
       "(array([[-1.03572293, -0.93978122,  0.04244312]]), (1, 3))"
      ]
     },
     "execution_count": 106,
     "metadata": {
      "tags": []
     },
     "output_type": "execute_result"
    }
   ],
   "source": [
    "novo_registro = X_credit[1999]\n",
    "novo_registro = novo_registro.reshape(1, -1)\n",
    "novo_registro, novo_registro.shape"
   ]
  },
  {
   "cell_type": "code",
   "execution_count": null,
   "id": "cellular-stack",
   "metadata": {
    "id": "kerWrM_zmQvP"
   },
   "outputs": [],
   "source": [
    "resposta_rede_neural = classificador_rede_neural.predict(novo_registro)\n",
    "resposta_decisionTree = classificador_decisionTree.predict(novo_registro)\n",
    "resposta_randomForest = classificador_randomForest.predict(novo_registro)"
   ]
  },
  {
   "cell_type": "code",
   "execution_count": null,
   "id": "black-karaoke",
   "metadata": {
    "colab": {
     "base_uri": "https://localhost:8080/"
    },
    "id": "SouSNSBbnA7T",
    "outputId": "78a74f11-54ab-4fb3-d6b5-a098cc7122a6"
   },
   "outputs": [
    {
     "data": {
      "text/plain": [
       "(1, 1, 1)"
      ]
     },
     "execution_count": 108,
     "metadata": {
      "tags": []
     },
     "output_type": "execute_result"
    }
   ],
   "source": [
    "resposta_rede_neural[0], resposta_decisionTree[0], resposta_randomForest[0]"
   ]
  },
  {
   "cell_type": "code",
   "execution_count": null,
   "id": "extraordinary-gallery",
   "metadata": {
    "colab": {
     "base_uri": "https://localhost:8080/"
    },
    "id": "eJoktf-XnLdM",
    "outputId": "8de64636-38e8-49f3-8e44-514be6f4cbe9"
   },
   "outputs": [
    {
     "name": "stdout",
     "output_type": "stream",
     "text": [
      "Cliente não pagará o empréstimo\n"
     ]
    }
   ],
   "source": [
    "paga = 0\n",
    "nao_paga = 0\n",
    "\n",
    "if resposta_rede_neural[0] == 1:\n",
    "    nao_paga += 1\n",
    "else:\n",
    "    paga += 1\n",
    "\n",
    "if resposta_arvore[0] == 1:\n",
    "    nao_paga += 1\n",
    "else:\n",
    "    paga += 1\n",
    "\n",
    "if resposta_svm[0] == 1:\n",
    "    nao_paga += 1\n",
    "else:\n",
    "    paga += 1\n",
    "\n",
    "if paga > nao_paga:\n",
    "    print('Cliente pagará o empréstimo')\n",
    "elif paga == nao_paga:\n",
    "    print('Empate')\n",
    "else:\n",
    "    print('Cliente não pagará o empréstimo')"
   ]
  },
  {
   "cell_type": "markdown",
   "id": "undefined-jumping",
   "metadata": {
    "id": "P3OWvpIvmIDH"
   },
   "source": [
    "# Rejeição de classificadores"
   ]
  },
  {
   "cell_type": "code",
   "execution_count": null,
   "id": "invalid-machine",
   "metadata": {
    "colab": {
     "base_uri": "https://localhost:8080/"
    },
    "id": "qWctOdKjpDWf",
    "outputId": "0b4b5088-2e2f-4c65-fb19-55b85394ed6f"
   },
   "outputs": [
    {
     "data": {
      "text/plain": [
       "(array([[-1.03572293, -0.93978122,  0.04244312]]), (1, 3))"
      ]
     },
     "execution_count": 122,
     "metadata": {
      "tags": []
     },
     "output_type": "execute_result"
    }
   ],
   "source": [
    "novo_registro = X_credit[1999]\n",
    "novo_registro = novo_registro.reshape(1, -1)\n",
    "novo_registro, novo_registro.shape"
   ]
  },
  {
   "cell_type": "code",
   "execution_count": null,
   "id": "chief-french",
   "metadata": {
    "id": "SA23SCvapLPB"
   },
   "outputs": [],
   "source": [
    "resposta_rede_neural = rede_neural.predict(novo_registro)\n",
    "resposta_arvore = arvore.predict(novo_registro)\n",
    "resposta_svm = svm.predict(novo_registro)"
   ]
  },
  {
   "cell_type": "code",
   "execution_count": null,
   "id": "mobile-helicopter",
   "metadata": {
    "colab": {
     "base_uri": "https://localhost:8080/"
    },
    "id": "roB4WLMqpPFN",
    "outputId": "c458bc95-d0f5-406d-aa73-248f9a9df336"
   },
   "outputs": [
    {
     "data": {
      "text/plain": [
       "(1, 1, 1)"
      ]
     },
     "execution_count": 124,
     "metadata": {
      "tags": []
     },
     "output_type": "execute_result"
    }
   ],
   "source": [
    "resposta_rede_neural[0], resposta_arvore[0], resposta_svm[0]"
   ]
  },
  {
   "cell_type": "code",
   "execution_count": null,
   "id": "german-privilege",
   "metadata": {
    "colab": {
     "base_uri": "https://localhost:8080/"
    },
    "id": "A5pTxq8apoM4",
    "outputId": "f41571b4-ba3d-4b42-b26c-a8b7179c16ec"
   },
   "outputs": [
    {
     "data": {
      "text/plain": [
       "array([[9.73124551e-05, 9.99902688e-01]])"
      ]
     },
     "execution_count": 125,
     "metadata": {
      "tags": []
     },
     "output_type": "execute_result"
    }
   ],
   "source": [
    "probabilidade_rede_neural = rede_neural.predict_proba(novo_registro)\n",
    "probabilidade_rede_neural"
   ]
  },
  {
   "cell_type": "code",
   "execution_count": null,
   "id": "mineral-substitute",
   "metadata": {
    "colab": {
     "base_uri": "https://localhost:8080/"
    },
    "id": "wStt8iSIp_yc",
    "outputId": "83b95064-32c6-492a-eeeb-1b5942cb11e4"
   },
   "outputs": [
    {
     "data": {
      "text/plain": [
       "0.9999026875448805"
      ]
     },
     "execution_count": 126,
     "metadata": {
      "tags": []
     },
     "output_type": "execute_result"
    }
   ],
   "source": [
    "confianca_rede_neural = probabilidade_rede_neural.max()\n",
    "confianca_rede_neural"
   ]
  },
  {
   "cell_type": "code",
   "execution_count": null,
   "id": "level-graham",
   "metadata": {
    "colab": {
     "base_uri": "https://localhost:8080/"
    },
    "id": "S1mgc0duqMa9",
    "outputId": "15279f18-4e97-4d67-f46a-13241c9fa9d3"
   },
   "outputs": [
    {
     "data": {
      "text/plain": [
       "1.0"
      ]
     },
     "execution_count": 127,
     "metadata": {
      "tags": []
     },
     "output_type": "execute_result"
    }
   ],
   "source": [
    "probabilidade_arvore = arvore.predict_proba(novo_registro)\n",
    "confianca_arvore = probabilidade_arvore.max()\n",
    "confianca_arvore"
   ]
  },
  {
   "cell_type": "code",
   "execution_count": null,
   "id": "latin-kidney",
   "metadata": {
    "colab": {
     "base_uri": "https://localhost:8080/"
    },
    "id": "ehUJYI79qX6D",
    "outputId": "edf20864-f0e3-47ef-e5fd-c02678427634"
   },
   "outputs": [
    {
     "data": {
      "text/plain": [
       "0.9938926756737146"
      ]
     },
     "execution_count": 128,
     "metadata": {
      "tags": []
     },
     "output_type": "execute_result"
    }
   ],
   "source": [
    "probabilidade_svm = svm.predict_proba(novo_registro)\n",
    "confianca_svm = probabilidade_svm.max()\n",
    "confianca_svm"
   ]
  },
  {
   "cell_type": "code",
   "execution_count": null,
   "id": "precise-humanitarian",
   "metadata": {
    "colab": {
     "base_uri": "https://localhost:8080/"
    },
    "id": "r7Jn8d8uq2rN",
    "outputId": "a31f96a3-654c-4178-811c-e834e67fa33d"
   },
   "outputs": [
    {
     "name": "stdout",
     "output_type": "stream",
     "text": [
      "Cliente não pagará o empréstimo, baseado em 1 algoritmos\n"
     ]
    }
   ],
   "source": [
    "paga = 0\n",
    "nao_paga = 0\n",
    "confianca_minima = 0.999999\n",
    "algoritmos = 0\n",
    "\n",
    "if confianca_rede_neural >= confianca_minima:\n",
    "    algoritmos += 1\n",
    "    if resposta_rede_neural[0] == 1:\n",
    "        nao_paga += 1\n",
    "    else:\n",
    "        paga += 1\n",
    "\n",
    "if confianca_arvore >= confianca_minima:\n",
    "    algoritmos += 1\n",
    "    if resposta_arvore[0] == 1:\n",
    "        nao_paga += 1\n",
    "    else:\n",
    "        paga += 1\n",
    "\n",
    "if confianca_svm >= confianca_minima:\n",
    "    algoritmos += 1\n",
    "    if resposta_svm[0] == 1:\n",
    "        nao_paga += 1\n",
    "    else:\n",
    "        paga += 1\n",
    "\n",
    "if paga > nao_paga:\n",
    "    print('Cliente pagará o empréstimo, baseado em {} algoritmos'.format(algoritmos))\n",
    "elif paga == nao_paga:\n",
    "    print('Empate, baseado em {} algoritmos'.format(algoritmos))\n",
    "else:\n",
    "    print('Cliente não pagará o empréstimo, baseado em {} algoritmos'.format(algoritmos))"
   ]
  }
 ],
 "metadata": {
  "kernelspec": {
   "display_name": "Python 3",
   "language": "python",
   "name": "python3"
  },
  "language_info": {
   "codemirror_mode": {
    "name": "ipython",
    "version": 3
   },
   "file_extension": ".py",
   "mimetype": "text/x-python",
   "name": "python",
   "nbconvert_exporter": "python",
   "pygments_lexer": "ipython3",
   "version": "3.8.10"
  }
 },
 "nbformat": 4,
 "nbformat_minor": 5
}
