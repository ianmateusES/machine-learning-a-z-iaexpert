{
 "cells": [
  {
   "cell_type": "markdown",
   "id": "considerable-beach",
   "metadata": {
    "id": "h8ZVuJ-VDE8h"
   },
   "source": [
    "# Aprendizado por regra"
   ]
  },
  {
   "cell_type": "markdown",
   "id": "structural-stopping",
   "metadata": {},
   "source": [
    "## Importando as libs"
   ]
  },
  {
   "cell_type": "code",
   "execution_count": 1,
   "id": "treated-coaching",
   "metadata": {
    "id": "6FeVctGQEhYg"
   },
   "outputs": [],
   "source": [
    "# !pip install Orange3"
   ]
  },
  {
   "cell_type": "code",
   "execution_count": 2,
   "id": "serial-triple",
   "metadata": {
    "id": "cVoUs1jvExRJ"
   },
   "outputs": [],
   "source": [
    "import Orange\n",
    "import numpy as np\n",
    "import pandas as pd\n",
    "import pickle"
   ]
  },
  {
   "cell_type": "markdown",
   "id": "tough-expense",
   "metadata": {
    "id": "4gUvxQ_wDGt4"
   },
   "source": [
    "## Base risco de crédito - Exemplo didático"
   ]
  },
  {
   "cell_type": "markdown",
   "id": "engaging-fancy",
   "metadata": {},
   "source": [
    "### Importando a base de dados"
   ]
  },
  {
   "cell_type": "code",
   "execution_count": 3,
   "id": "failing-plasma",
   "metadata": {
    "id": "JotbvF6BE2HC"
   },
   "outputs": [],
   "source": [
    "base_risco_credito = Orange.data.Table('./data/04.risco_credito_regras.csv')"
   ]
  },
  {
   "cell_type": "code",
   "execution_count": 4,
   "id": "contemporary-straight",
   "metadata": {
    "colab": {
     "base_uri": "https://localhost:8080/"
    },
    "id": "NFP_btyJFjrt",
    "outputId": "43cf0a7b-9954-4067-a174-334da98004e8"
   },
   "outputs": [
    {
     "data": {
      "text/plain": [
       "[[ruim, alta, nenhuma, 0_15 | alto],\n",
       " [desconhecida, alta, nenhuma, 15_35 | alto],\n",
       " [desconhecida, baixa, nenhuma, 15_35 | moderado],\n",
       " [desconhecida, baixa, nenhuma, acima_35 | alto],\n",
       " [desconhecida, baixa, nenhuma, acima_35 | baixo],\n",
       " ...\n",
       "]"
      ]
     },
     "execution_count": 4,
     "metadata": {},
     "output_type": "execute_result"
    }
   ],
   "source": [
    "base_risco_credito"
   ]
  },
  {
   "cell_type": "code",
   "execution_count": 5,
   "id": "annoying-backup",
   "metadata": {
    "colab": {
     "base_uri": "https://localhost:8080/"
    },
    "id": "S6fpfEpvFtgl",
    "outputId": "7aff0cdb-9a9c-484f-b32f-936e31b9f095"
   },
   "outputs": [
    {
     "data": {
      "text/plain": [
       "[historia, divida, garantias, renda | risco]"
      ]
     },
     "execution_count": 5,
     "metadata": {},
     "output_type": "execute_result"
    }
   ],
   "source": [
    "base_risco_credito.domain"
   ]
  },
  {
   "cell_type": "markdown",
   "id": "brown-indonesia",
   "metadata": {},
   "source": [
    "### Experimentando o modelo"
   ]
  },
  {
   "cell_type": "code",
   "execution_count": 6,
   "id": "impressed-companion",
   "metadata": {
    "id": "Kz0nmdA1Fy67"
   },
   "outputs": [],
   "source": [
    "cn2 = Orange.classification.rules.CN2Learner()\n",
    "regras_risco_credito = cn2(base_risco_credito)"
   ]
  },
  {
   "cell_type": "code",
   "execution_count": 7,
   "id": "compliant-offense",
   "metadata": {
    "colab": {
     "base_uri": "https://localhost:8080/"
    },
    "id": "5k6XhEgSGK4i",
    "outputId": "c4dafc47-2d97-4ad2-944b-eef41aba051a"
   },
   "outputs": [
    {
     "name": "stdout",
     "output_type": "stream",
     "text": [
      "IF renda==0_15 THEN risco=alto \n",
      "IF historia==boa AND divida!=alta THEN risco=baixo \n",
      "IF historia==boa AND garantias!=nenhuma THEN risco=baixo \n",
      "IF historia==boa AND renda!=15_35 THEN risco=baixo \n",
      "IF historia==boa THEN risco=moderado \n",
      "IF divida==alta THEN risco=alto \n",
      "IF historia!=desconhecida THEN risco=moderado \n",
      "IF garantias==adequada THEN risco=baixo \n",
      "IF renda==15_35 THEN risco=moderado \n",
      "IF historia==desconhecida THEN risco=baixo \n",
      "IF TRUE THEN risco=alto \n"
     ]
    }
   ],
   "source": [
    "for regras in regras_risco_credito.rule_list:\n",
    "    print(regras)"
   ]
  },
  {
   "cell_type": "code",
   "execution_count": 8,
   "id": "efficient-whale",
   "metadata": {
    "colab": {
     "base_uri": "https://localhost:8080/"
    },
    "id": "zCvmpF6QGd6b",
    "outputId": "e4402365-b159-4f64-b413-ed090777b260"
   },
   "outputs": [
    {
     "data": {
      "text/plain": [
       "array([1, 0])"
      ]
     },
     "execution_count": 8,
     "metadata": {},
     "output_type": "execute_result"
    }
   ],
   "source": [
    "# história boa, dívida alta, garantias nenhuma, renda > 35\n",
    "# história ruim, dívida alta, garantias adequada, renda < 15\n",
    "y_pred = regras_risco_credito([['boa', 'alta', 'nenhuma', 'acima_35'], ['ruim', 'alta', 'adequada', '0_15']])\n",
    "y_pred"
   ]
  },
  {
   "cell_type": "markdown",
   "id": "portuguese-taiwan",
   "metadata": {},
   "source": [
    "### Análise dos resultados"
   ]
  },
  {
   "cell_type": "code",
   "execution_count": 9,
   "id": "black-somalia",
   "metadata": {
    "colab": {
     "base_uri": "https://localhost:8080/"
    },
    "id": "GrdBdDmpG7tR",
    "outputId": "2c1ef3bc-f342-42f9-a514-3381fcfdb061"
   },
   "outputs": [
    {
     "data": {
      "text/plain": [
       "('alto', 'baixo', 'moderado')"
      ]
     },
     "execution_count": 9,
     "metadata": {},
     "output_type": "execute_result"
    }
   ],
   "source": [
    "base_risco_credito.domain.class_var.values"
   ]
  },
  {
   "cell_type": "code",
   "execution_count": 10,
   "id": "british-grade",
   "metadata": {
    "colab": {
     "base_uri": "https://localhost:8080/"
    },
    "id": "UP6orLokHKIc",
    "outputId": "5e03ff38-d1d4-4a65-f6a3-ea820c0ec817"
   },
   "outputs": [
    {
     "name": "stdout",
     "output_type": "stream",
     "text": [
      "baixo\n",
      "alto\n"
     ]
    }
   ],
   "source": [
    "for i in y_pred:\n",
    "    #print(i)\n",
    "    print(base_risco_credito.domain.class_var.values[i])"
   ]
  },
  {
   "cell_type": "markdown",
   "id": "dedicated-orlando",
   "metadata": {
    "id": "SN9q4qQiDIsi"
   },
   "source": [
    "## Base credit data - Resultado da análise: 97.2%"
   ]
  },
  {
   "cell_type": "markdown",
   "id": "increasing-ladder",
   "metadata": {},
   "source": [
    "### Importando a base de dados"
   ]
  },
  {
   "cell_type": "code",
   "execution_count": 11,
   "id": "twelve-institution",
   "metadata": {
    "id": "QuSE07tsIuKc"
   },
   "outputs": [],
   "source": [
    "base_credit = Orange.data.Table('./data/05.credit_data_regras.csv')"
   ]
  },
  {
   "cell_type": "code",
   "execution_count": 12,
   "id": "eight-architecture",
   "metadata": {
    "colab": {
     "base_uri": "https://localhost:8080/"
    },
    "id": "dobXFvYAJHSV",
    "outputId": "3c795564-e17e-45b1-9e1d-bbb4c6272e3d"
   },
   "outputs": [
    {
     "data": {
      "text/plain": [
       "[income, age, loan | default]"
      ]
     },
     "execution_count": 12,
     "metadata": {},
     "output_type": "execute_result"
    }
   ],
   "source": [
    "base_credit.domain"
   ]
  },
  {
   "cell_type": "code",
   "execution_count": 13,
   "id": "honey-baker",
   "metadata": {
    "id": "SkJKeptJJTFp"
   },
   "outputs": [
    {
     "data": {
      "text/plain": [
       "([[33159.2, 42.3432, 2135.53 | 0],\n",
       "  [66054.5, 39.0771, 10321.1 | 0],\n",
       "  [57746.6, 63.6253, 727.195 | 0],\n",
       "  [63910.3, 56.6356, 8986.72 | 0],\n",
       "  [43777.5, 20.0109, 3601.3 | 0],\n",
       "  ...\n",
       " ],\n",
       " [[31659.7, 31.9282, 858.511 | 0],\n",
       "  [39970.2, 40.3681, 7867.62 | 0],\n",
       "  [65588.4, 22.9182, 7879.74 | 1],\n",
       "  [61427.4, 20.108, 2163.31 | 0],\n",
       "  [36367, 47.1914, 371.041 | 0],\n",
       "  ...\n",
       " ])"
      ]
     },
     "execution_count": 13,
     "metadata": {},
     "output_type": "execute_result"
    }
   ],
   "source": [
    "base_dividida = Orange.evaluation.testing.sample(base_credit, n = 0.25)\n",
    "base_dividida"
   ]
  },
  {
   "cell_type": "code",
   "execution_count": 14,
   "id": "forty-secretary",
   "metadata": {
    "colab": {
     "base_uri": "https://localhost:8080/"
    },
    "id": "q5Nhh6j4JjZw",
    "outputId": "c4b70c79-9c15-4fdb-eb9b-052b8b92ebbc"
   },
   "outputs": [
    {
     "data": {
      "text/plain": [
       "[[33159.2, 42.3432, 2135.53 | 0],\n",
       " [66054.5, 39.0771, 10321.1 | 0],\n",
       " [57746.6, 63.6253, 727.195 | 0],\n",
       " [63910.3, 56.6356, 8986.72 | 0],\n",
       " [43777.5, 20.0109, 3601.3 | 0],\n",
       " ...\n",
       "]"
      ]
     },
     "execution_count": 14,
     "metadata": {},
     "output_type": "execute_result"
    }
   ],
   "source": [
    "base_dividida[0]"
   ]
  },
  {
   "cell_type": "code",
   "execution_count": 15,
   "id": "sophisticated-vulnerability",
   "metadata": {
    "colab": {
     "base_uri": "https://localhost:8080/"
    },
    "id": "hqZ62jxpJmUo",
    "outputId": "aad7c225-5494-45e2-b6ea-e46cd5666d6d"
   },
   "outputs": [
    {
     "data": {
      "text/plain": [
       "[[31659.7, 31.9282, 858.511 | 0],\n",
       " [39970.2, 40.3681, 7867.62 | 0],\n",
       " [65588.4, 22.9182, 7879.74 | 1],\n",
       " [61427.4, 20.108, 2163.31 | 0],\n",
       " [36367, 47.1914, 371.041 | 0],\n",
       " ...\n",
       "]"
      ]
     },
     "execution_count": 15,
     "metadata": {},
     "output_type": "execute_result"
    }
   ],
   "source": [
    "base_dividida[1]"
   ]
  },
  {
   "cell_type": "code",
   "execution_count": 16,
   "id": "distant-concept",
   "metadata": {
    "id": "UiDXtlkfJpvt"
   },
   "outputs": [],
   "source": [
    "base_treinamento = base_dividida[1]\n",
    "base_teste = base_dividida[0]"
   ]
  },
  {
   "cell_type": "code",
   "execution_count": 17,
   "id": "figured-legislation",
   "metadata": {
    "colab": {
     "base_uri": "https://localhost:8080/"
    },
    "id": "vy3NAF4FJyb6",
    "outputId": "0abdc01c-ddb4-4462-c217-bfc22746be24"
   },
   "outputs": [
    {
     "data": {
      "text/plain": [
       "(1500, 500)"
      ]
     },
     "execution_count": 17,
     "metadata": {},
     "output_type": "execute_result"
    }
   ],
   "source": [
    "len(base_treinamento), len(base_teste)"
   ]
  },
  {
   "cell_type": "markdown",
   "id": "annual-jonathan",
   "metadata": {},
   "source": [
    "### Experimentando o modelo"
   ]
  },
  {
   "cell_type": "code",
   "execution_count": 18,
   "id": "subsequent-farming",
   "metadata": {
    "id": "yX98QMQTJ4OB"
   },
   "outputs": [],
   "source": [
    "cn2 = Orange.classification.rules.CN2Learner()\n",
    "regras_credit = cn2(base_treinamento)"
   ]
  },
  {
   "cell_type": "code",
   "execution_count": 19,
   "id": "subtle-investor",
   "metadata": {
    "colab": {
     "base_uri": "https://localhost:8080/"
    },
    "id": "cAyvYmKVKBax",
    "outputId": "18519c6e-8c4f-4f6e-ecaf-38de1378c92b"
   },
   "outputs": [
    {
     "name": "stdout",
     "output_type": "stream",
     "text": [
      "IF age>=34.9257164876908 THEN default=0 \n",
      "IF loan<=2495.13299137587 AND income>=20145.9885970689 THEN default=0 \n",
      "IF income<=31722.7309499867 AND loan>=3105.4430213977303 THEN default=1 \n",
      "IF loan>=7718.479795185201 AND loan>=9698.582169129 THEN default=1 \n",
      "IF loan>=7718.479795185201 AND age>=20.9909665295854 THEN default=1 \n",
      "IF income>=58132.4712652713 AND age>=19.5239827041514 THEN default=0 \n",
      "IF age<=18.075335860718 AND income>=50501.7266888171 THEN default=0 \n",
      "IF income>=46801.274286117405 AND age>=33.5510297357105 THEN default=0 \n",
      "IF age<=18.413736339658502 AND age>=18.413736339658502 THEN default=0 \n",
      "IF age<=18.477425018791102 AND age>=18.477425018791102 THEN default=0 \n",
      "IF loan>=5473.98555060076 AND income<=50052.292929031 AND loan>=5617.178645345511 THEN default=1 \n",
      "IF loan>=6536.96636294544 AND age>=19.372464833315497 THEN default=1 \n",
      "IF income<=22089.8374845274 AND age>=21.3656869572587 THEN default=1 \n",
      "IF income>=45311.831838917 AND income>=53493.4860118665 THEN default=0 \n",
      "IF loan<=4285.38691174949 AND income>=33489.0398592688 THEN default=0 \n",
      "IF loan<=4849.33378471958 AND income>=40496.2558229454 THEN default=0 \n",
      "IF loan<=4285.38691174949 AND loan>=4285.38691174949 THEN default=1 \n",
      "IF loan<=2971.00330971188 AND income>=24857.6948815025 THEN default=0 \n",
      "IF income>=45840.2076200582 AND age>=21.495505332946802 THEN default=0 \n",
      "IF loan>=4367.26495019919 AND age>=24.4157260977663 THEN default=1 \n",
      "IF income>=34635.7447491027 AND age>=24.3714581453241 THEN default=0 \n",
      "IF income>=34635.7447491027 THEN default=1 \n",
      "IF income>=29724.4768752716 THEN default=0 \n",
      "IF income>=24500.1419843175 THEN default=1 \n",
      "IF income<=22089.8374845274 THEN default=0 \n",
      "IF TRUE THEN default=0 \n"
     ]
    }
   ],
   "source": [
    "for regras in regras_credit.rule_list:\n",
    "    print(regras)"
   ]
  },
  {
   "cell_type": "code",
   "execution_count": 20,
   "id": "ambient-chuck",
   "metadata": {
    "id": "yl6zfDdlKZU8"
   },
   "outputs": [
    {
     "data": {
      "text/plain": [
       "<Orange.evaluation.testing.Results at 0x7fe6e9e15fa0>"
      ]
     },
     "execution_count": 20,
     "metadata": {},
     "output_type": "execute_result"
    }
   ],
   "source": [
    "y_pred = Orange.evaluation.testing.TestOnTestData(base_treinamento, base_teste, [lambda testdata: regras_credit])\n",
    "y_pred"
   ]
  },
  {
   "cell_type": "markdown",
   "id": "experienced-occupation",
   "metadata": {},
   "source": [
    "### Análise dos resultados"
   ]
  },
  {
   "cell_type": "code",
   "execution_count": 21,
   "id": "virtual-death",
   "metadata": {
    "colab": {
     "base_uri": "https://localhost:8080/"
    },
    "id": "cBo2fgbsKvUo",
    "outputId": "f3e60254-cae7-41c8-a0ef-13ea9c966be0"
   },
   "outputs": [
    {
     "data": {
      "text/plain": [
       "array([0.972])"
      ]
     },
     "execution_count": 21,
     "metadata": {},
     "output_type": "execute_result"
    }
   ],
   "source": [
    "Orange.evaluation.CA(y_pred)"
   ]
  },
  {
   "cell_type": "markdown",
   "id": "confused-astrology",
   "metadata": {
    "id": "E2S9lDBTDKE6"
   },
   "source": [
    "## Base census - 78.90% (executado na interface gráfica do Orange)"
   ]
  },
  {
   "cell_type": "markdown",
   "id": "tight-slave",
   "metadata": {
    "id": "0v5iHxzcNPNK"
   },
   "source": [
    "# Classificador base - Majority learner"
   ]
  },
  {
   "cell_type": "markdown",
   "id": "knowing-passport",
   "metadata": {
    "id": "TWW4JhkLNS0t"
   },
   "source": [
    "## Base credit data - Resultado da análise: 85.8%"
   ]
  },
  {
   "cell_type": "code",
   "execution_count": 22,
   "id": "close-depth",
   "metadata": {},
   "outputs": [],
   "source": [
    "from collections import Counter"
   ]
  },
  {
   "cell_type": "markdown",
   "id": "postal-innocent",
   "metadata": {},
   "source": [
    "### Importando a base de dados"
   ]
  },
  {
   "cell_type": "code",
   "execution_count": 23,
   "id": "saving-graph",
   "metadata": {
    "id": "W0jSC1J5OJU4"
   },
   "outputs": [],
   "source": [
    "base_credit = Orange.data.Table('./data/05.credit_data_regras.csv')"
   ]
  },
  {
   "cell_type": "code",
   "execution_count": 24,
   "id": "official-parade",
   "metadata": {
    "colab": {
     "base_uri": "https://localhost:8080/"
    },
    "id": "MBUnH2VHOaTD",
    "outputId": "cf85f686-1684-48ad-a0e7-970e404d8e88"
   },
   "outputs": [
    {
     "data": {
      "text/plain": [
       "[income, age, loan | default]"
      ]
     },
     "execution_count": 24,
     "metadata": {},
     "output_type": "execute_result"
    }
   ],
   "source": [
    "base_credit.domain"
   ]
  },
  {
   "cell_type": "markdown",
   "id": "reflected-freeze",
   "metadata": {},
   "source": [
    "### Experimentando o modelo"
   ]
  },
  {
   "cell_type": "code",
   "execution_count": 25,
   "id": "animal-awareness",
   "metadata": {
    "id": "s8ptBHrFOd5u"
   },
   "outputs": [],
   "source": [
    "majority = Orange.classification.MajorityLearner()"
   ]
  },
  {
   "cell_type": "code",
   "execution_count": 26,
   "id": "prepared-office",
   "metadata": {
    "id": "0vyKSrmtOiL1"
   },
   "outputs": [],
   "source": [
    "previsoes = Orange.evaluation.testing.TestOnTestData(base_credit, base_credit, [majority])"
   ]
  },
  {
   "cell_type": "markdown",
   "id": "plain-heritage",
   "metadata": {},
   "source": [
    "### Análise dos resultados"
   ]
  },
  {
   "cell_type": "code",
   "execution_count": 27,
   "id": "random-spectacular",
   "metadata": {
    "colab": {
     "base_uri": "https://localhost:8080/"
    },
    "id": "cEjSSc1GOuk-",
    "outputId": "fc887368-c4d2-4cc9-cbfb-8a0d5dffbc4c"
   },
   "outputs": [
    {
     "data": {
      "text/plain": [
       "array([0.8585])"
      ]
     },
     "execution_count": 27,
     "metadata": {},
     "output_type": "execute_result"
    }
   ],
   "source": [
    "Orange.evaluation.CA(previsoes)"
   ]
  },
  {
   "cell_type": "code",
   "execution_count": 28,
   "id": "welsh-belly",
   "metadata": {
    "id": "qPuqn8mkO1Bl"
   },
   "outputs": [],
   "source": [
    "# for registro in base_credit:\n",
    "#     print(registro.get_class())"
   ]
  },
  {
   "cell_type": "code",
   "execution_count": 29,
   "id": "short-proportion",
   "metadata": {
    "colab": {
     "base_uri": "https://localhost:8080/"
    },
    "id": "P-YpGhWKPCiv",
    "outputId": "35ec9fd4-35c4-41f6-d272-842fd950f030"
   },
   "outputs": [
    {
     "data": {
      "text/plain": [
       "Counter({'0': 1717, '1': 283})"
      ]
     },
     "execution_count": 29,
     "metadata": {},
     "output_type": "execute_result"
    }
   ],
   "source": [
    "Counter(str(registro.get_class()) for registro in base_credit)"
   ]
  },
  {
   "cell_type": "code",
   "execution_count": 30,
   "id": "municipal-merit",
   "metadata": {
    "colab": {
     "base_uri": "https://localhost:8080/"
    },
    "id": "13NUGhhTPVqn",
    "outputId": "db06df93-15e0-4779-8741-7888e101f34b"
   },
   "outputs": [
    {
     "data": {
      "text/plain": [
       "0.8585"
      ]
     },
     "execution_count": 30,
     "metadata": {},
     "output_type": "execute_result"
    }
   ],
   "source": [
    "1717 / 2000"
   ]
  },
  {
   "cell_type": "markdown",
   "id": "adaptive-check",
   "metadata": {
    "id": "e6tDYDLUNUWH"
   },
   "source": [
    "## Base census - Resultado da análise: 75.9%"
   ]
  },
  {
   "cell_type": "markdown",
   "id": "united-latter",
   "metadata": {},
   "source": [
    "### Importando a base de dados"
   ]
  },
  {
   "cell_type": "code",
   "execution_count": 31,
   "id": "initial-wallpaper",
   "metadata": {
    "id": "9SVmh75gQqRH"
   },
   "outputs": [],
   "source": [
    "base_census = Orange.data.Table('./data/06.census_regras.csv')"
   ]
  },
  {
   "cell_type": "code",
   "execution_count": 32,
   "id": "close-function",
   "metadata": {
    "colab": {
     "base_uri": "https://localhost:8080/"
    },
    "id": "OaLq4sn-Q2Ul",
    "outputId": "b003dc36-fc68-42ed-99f5-89c83390e63d"
   },
   "outputs": [
    {
     "data": {
      "text/plain": [
       "[age, workclass, final-weight, education, education-num, marital-status, occupation, relationship, race, sex, capital-gain, capital-loos, hour-per-week, native-country | income]"
      ]
     },
     "execution_count": 32,
     "metadata": {},
     "output_type": "execute_result"
    }
   ],
   "source": [
    "base_census.domain"
   ]
  },
  {
   "cell_type": "markdown",
   "id": "simple-spouse",
   "metadata": {},
   "source": [
    "### Experimentando o modelo"
   ]
  },
  {
   "cell_type": "code",
   "execution_count": 33,
   "id": "demonstrated-banking",
   "metadata": {
    "colab": {
     "base_uri": "https://localhost:8080/"
    },
    "id": "upiW6xtQQ_T4",
    "outputId": "f5e40be4-e3a3-4b88-e6bf-f9123361232f"
   },
   "outputs": [],
   "source": [
    "majority = Orange.classification.MajorityLearner()"
   ]
  },
  {
   "cell_type": "code",
   "execution_count": 34,
   "id": "serial-terry",
   "metadata": {},
   "outputs": [],
   "source": [
    "previsoes = Orange.evaluation.testing.TestOnTestData(base_census, base_census, [majority])"
   ]
  },
  {
   "cell_type": "markdown",
   "id": "miniature-elder",
   "metadata": {},
   "source": [
    "### Análise dos resultados"
   ]
  },
  {
   "cell_type": "code",
   "execution_count": 35,
   "id": "welsh-junior",
   "metadata": {},
   "outputs": [
    {
     "data": {
      "text/plain": [
       "array([0.75919044])"
      ]
     },
     "execution_count": 35,
     "metadata": {},
     "output_type": "execute_result"
    }
   ],
   "source": [
    "Orange.evaluation.CA(previsoes)"
   ]
  },
  {
   "cell_type": "code",
   "execution_count": 36,
   "id": "solar-england",
   "metadata": {
    "colab": {
     "base_uri": "https://localhost:8080/"
    },
    "id": "DtiCx4oLRwDS",
    "outputId": "099c6034-ec32-4d36-d5cf-d98e73db8a6b"
   },
   "outputs": [
    {
     "data": {
      "text/plain": [
       "Counter({'<=50K': 24720, '>50K': 7841})"
      ]
     },
     "execution_count": 36,
     "metadata": {},
     "output_type": "execute_result"
    }
   ],
   "source": [
    "Counter(str(registro.get_class()) for registro in base_census)"
   ]
  },
  {
   "cell_type": "code",
   "execution_count": 37,
   "id": "rotary-decline",
   "metadata": {
    "colab": {
     "base_uri": "https://localhost:8080/"
    },
    "id": "O6880j0IR4dV",
    "outputId": "fedda2ef-7c52-4540-89fc-97b06e77de5b"
   },
   "outputs": [
    {
     "data": {
      "text/plain": [
       "0.7591904425539756"
      ]
     },
     "execution_count": 37,
     "metadata": {},
     "output_type": "execute_result"
    }
   ],
   "source": [
    "24720 / (24720 + 7841)"
   ]
  }
 ],
 "metadata": {
  "kernelspec": {
   "display_name": "Python 3",
   "language": "python",
   "name": "python3"
  },
  "language_info": {
   "codemirror_mode": {
    "name": "ipython",
    "version": 3
   },
   "file_extension": ".py",
   "mimetype": "text/x-python",
   "name": "python",
   "nbconvert_exporter": "python",
   "pygments_lexer": "ipython3",
   "version": "3.8.10"
  }
 },
 "nbformat": 4,
 "nbformat_minor": 5
}
