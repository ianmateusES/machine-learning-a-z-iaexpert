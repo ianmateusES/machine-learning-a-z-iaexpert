{
 "cells": [
  {
   "cell_type": "code",
   "execution_count": 8,
   "id": "lasting-trick",
   "metadata": {},
   "outputs": [],
   "source": [
    "import numpy as np\n",
    "import pandas as pd\n",
    "import pickle\n",
    "\n",
    "from sklearn.neural_network import MLPClassifier\n",
    "from sklearn.tree import DecisionTreeClassifier\n",
    "from sklearn.ensemble import RandomForestClassifier"
   ]
  },
  {
   "cell_type": "markdown",
   "id": "antique-newspaper",
   "metadata": {
    "id": "wo_FnyqZdSHP"
   },
   "source": [
    "# Salvar um classificador já treinado"
   ]
  },
  {
   "cell_type": "code",
   "execution_count": 2,
   "id": "controlled-bubble",
   "metadata": {
    "id": "z6IYwDGldXxK"
   },
   "outputs": [],
   "source": [
    "with open('./data/credit.pkl', 'rb') as f:\n",
    "    X_train_credit, y_train_credit, X_test_credit, y_test_credit = pickle.load(f)"
   ]
  },
  {
   "cell_type": "code",
   "execution_count": 3,
   "id": "crazy-messaging",
   "metadata": {
    "id": "tAr2Qn4bdcE_"
   },
   "outputs": [],
   "source": [
    "X_credit = np.concatenate((X_train_credit, X_test_credit), axis = 0)\n",
    "y_credit = np.concatenate((y_train_credit, y_test_credit), axis = 0)"
   ]
  },
  {
   "cell_type": "code",
   "execution_count": 4,
   "id": "higher-india",
   "metadata": {
    "colab": {
     "base_uri": "https://localhost:8080/"
    },
    "id": "G2cSwOUgde_L",
    "outputId": "394ba8b8-0f00-4bb8-e5a3-f46297b12617"
   },
   "outputs": [
    {
     "data": {
      "text/plain": [
       "((2000, 3), (2000,))"
      ]
     },
     "execution_count": 4,
     "metadata": {},
     "output_type": "execute_result"
    }
   ],
   "source": [
    "X_credit.shape, y_credit.shape"
   ]
  },
  {
   "cell_type": "code",
   "execution_count": 5,
   "id": "meaning-kuwait",
   "metadata": {
    "colab": {
     "base_uri": "https://localhost:8080/"
    },
    "id": "pGNIuf7ng4Vu",
    "outputId": "99fcaad8-ed32-4b5c-9903-c3ad277921bd"
   },
   "outputs": [
    {
     "data": {
      "text/plain": [
       "MLPClassifier(batch_size=10)"
      ]
     },
     "execution_count": 5,
     "metadata": {},
     "output_type": "execute_result"
    }
   ],
   "source": [
    "classificador_rede_neural = MLPClassifier(batch_size=10)\n",
    "classificador_rede_neural.fit(X_credit, y_credit)"
   ]
  },
  {
   "cell_type": "code",
   "execution_count": 6,
   "id": "exterior-pasta",
   "metadata": {
    "colab": {
     "base_uri": "https://localhost:8080/"
    },
    "id": "3Df8-kTQhOyf",
    "outputId": "2e7331f2-c85f-4b76-d03b-0aed0cb7c304"
   },
   "outputs": [
    {
     "data": {
      "text/plain": [
       "DecisionTreeClassifier(criterion='entropy', min_samples_split=5)"
      ]
     },
     "execution_count": 6,
     "metadata": {},
     "output_type": "execute_result"
    }
   ],
   "source": [
    "classificador_decisionTree = DecisionTreeClassifier(criterion='entropy', min_samples_split=5)\n",
    "classificador_decisionTree.fit(X_credit, y_credit)"
   ]
  },
  {
   "cell_type": "code",
   "execution_count": 9,
   "id": "combined-apache",
   "metadata": {
    "colab": {
     "base_uri": "https://localhost:8080/"
    },
    "id": "_AevOaE1hf6c",
    "outputId": "b3f2ec96-2b6c-4b6c-a17c-c7ecf0df248d"
   },
   "outputs": [
    {
     "data": {
      "text/plain": [
       "RandomForestClassifier(criterion='entropy')"
      ]
     },
     "execution_count": 9,
     "metadata": {},
     "output_type": "execute_result"
    }
   ],
   "source": [
    "classificador_randomForest = RandomForestClassifier(criterion='entropy')\n",
    "classificador_randomForest.fit(X_credit, y_credit)"
   ]
  },
  {
   "cell_type": "code",
   "execution_count": 10,
   "id": "motivated-article",
   "metadata": {
    "id": "UQOyP8ZqhrQ6"
   },
   "outputs": [],
   "source": [
    "pickle.dump(classificador_rede_neural, open('./data/rede_neural_finalizado.sav', 'wb'))\n",
    "pickle.dump(classificador_decisionTree, open('./data/decisionTree_finalizado.sav', 'wb'))\n",
    "pickle.dump(classificador_randomForest, open('./data/randomForest_finalizado.sav', 'wb'))"
   ]
  },
  {
   "cell_type": "code",
   "execution_count": null,
   "id": "black-closing",
   "metadata": {},
   "outputs": [],
   "source": []
  }
 ],
 "metadata": {
  "kernelspec": {
   "display_name": "Python 3",
   "language": "python",
   "name": "python3"
  },
  "language_info": {
   "codemirror_mode": {
    "name": "ipython",
    "version": 3
   },
   "file_extension": ".py",
   "mimetype": "text/x-python",
   "name": "python",
   "nbconvert_exporter": "python",
   "pygments_lexer": "ipython3",
   "version": "3.8.10"
  }
 },
 "nbformat": 4,
 "nbformat_minor": 5
}
